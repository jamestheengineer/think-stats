{
  "nbformat": 4,
  "nbformat_minor": 0,
  "metadata": {
    "kernelspec": {
      "display_name": "Python 3",
      "language": "python",
      "name": "python3"
    },
    "language_info": {
      "codemirror_mode": {
        "name": "ipython",
        "version": 3
      },
      "file_extension": ".py",
      "mimetype": "text/x-python",
      "name": "python",
      "nbconvert_exporter": "python",
      "pygments_lexer": "ipython3",
      "version": "3.6.6"
    },
    "colab": {
      "name": "chap02ex.ipynb",
      "provenance": [],
      "include_colab_link": true
    }
  },
  "cells": [
    {
      "cell_type": "markdown",
      "metadata": {
        "id": "view-in-github",
        "colab_type": "text"
      },
      "source": [
        "<a href=\"https://colab.research.google.com/github/jamestheengineer/think-stats/blob/main/python/chap02ex.ipynb\" target=\"_parent\"><img src=\"https://colab.research.google.com/assets/colab-badge.svg\" alt=\"Open In Colab\"/></a>"
      ]
    },
    {
      "cell_type": "code",
      "metadata": {
        "id": "UPaRj8H-t4Qj",
        "colab": {
          "base_uri": "https://localhost:8080/"
        },
        "outputId": "ddc4aac7-4b84-4bcd-f0d7-892cecc27445"
      },
      "source": [
        "# Only do this once per VM, otherwise you'll get multiple clones and nested directories\n",
        "!git clone https://github.com/AllenDowney/ThinkStats2.git\n",
        "%cd ThinkStats2/code"
      ],
      "execution_count": 1,
      "outputs": [
        {
          "output_type": "stream",
          "text": [
            "Cloning into 'ThinkStats2'...\n",
            "remote: Enumerating objects: 2807, done.\u001b[K\n",
            "remote: Total 2807 (delta 0), reused 0 (delta 0), pack-reused 2807\u001b[K\n",
            "Receiving objects: 100% (2807/2807), 172.29 MiB | 23.57 MiB/s, done.\n",
            "Resolving deltas: 100% (1600/1600), done.\n",
            "Checking out files: 100% (485/485), done.\n",
            "/content/ThinkStats2/code\n"
          ],
          "name": "stdout"
        }
      ]
    },
    {
      "cell_type": "markdown",
      "metadata": {
        "id": "9IFGmcQst2MG"
      },
      "source": [
        "# Examples and Exercises from Think Stats, 2nd Edition\n",
        "\n",
        "http://thinkstats2.com\n",
        "\n",
        "Copyright 2016 Allen B. Downey\n",
        "\n",
        "MIT License: https://opensource.org/licenses/MIT\n"
      ]
    },
    {
      "cell_type": "code",
      "metadata": {
        "id": "4neJaxjYt2ML"
      },
      "source": [
        "from __future__ import print_function, division\n",
        "\n",
        "%matplotlib inline\n",
        "\n",
        "import numpy as np\n",
        "\n",
        "import nsfg\n",
        "import first"
      ],
      "execution_count": 2,
      "outputs": []
    },
    {
      "cell_type": "markdown",
      "metadata": {
        "id": "s1ec_I51t2MS"
      },
      "source": [
        "Given a list of values, there are several ways to count the frequency of each value."
      ]
    },
    {
      "cell_type": "code",
      "metadata": {
        "id": "uFW6k2EZt2MU"
      },
      "source": [
        "t = [1, 2, 2, 3, 5]"
      ],
      "execution_count": 3,
      "outputs": []
    },
    {
      "cell_type": "markdown",
      "metadata": {
        "id": "IRFHEv3Bt2Mb"
      },
      "source": [
        "You can use a Python dictionary:"
      ]
    },
    {
      "cell_type": "code",
      "metadata": {
        "id": "M7ASX5Est2Mc",
        "colab": {
          "base_uri": "https://localhost:8080/"
        },
        "outputId": "46219e16-1911-40bd-8c4f-0de236cda99a"
      },
      "source": [
        "hist = {}\n",
        "for x in t:\n",
        "    hist[x] = hist.get(x, 0) + 1\n",
        "    \n",
        "hist"
      ],
      "execution_count": 4,
      "outputs": [
        {
          "output_type": "execute_result",
          "data": {
            "text/plain": [
              "{1: 1, 2: 2, 3: 1, 5: 1}"
            ]
          },
          "metadata": {
            "tags": []
          },
          "execution_count": 4
        }
      ]
    },
    {
      "cell_type": "markdown",
      "metadata": {
        "id": "yRmLdX47t2Mj"
      },
      "source": [
        "You can use a `Counter` (which is a dictionary with additional methods):"
      ]
    },
    {
      "cell_type": "code",
      "metadata": {
        "id": "1c899tCbt2Mk",
        "colab": {
          "base_uri": "https://localhost:8080/"
        },
        "outputId": "399b74fb-e827-4877-ca11-41ac878f8e22"
      },
      "source": [
        "from collections import Counter\n",
        "counter = Counter(t)\n",
        "counter"
      ],
      "execution_count": 5,
      "outputs": [
        {
          "output_type": "execute_result",
          "data": {
            "text/plain": [
              "Counter({1: 1, 2: 2, 3: 1, 5: 1})"
            ]
          },
          "metadata": {
            "tags": []
          },
          "execution_count": 5
        }
      ]
    },
    {
      "cell_type": "markdown",
      "metadata": {
        "id": "qK6wEfF5t2Mt"
      },
      "source": [
        "Or you can use the `Hist` object provided by `thinkstats2`:"
      ]
    },
    {
      "cell_type": "code",
      "metadata": {
        "id": "JMtCyotkt2Mv",
        "colab": {
          "base_uri": "https://localhost:8080/"
        },
        "outputId": "7a39f5c1-4fa4-4023-fb23-1ade9be74643"
      },
      "source": [
        "import thinkstats2\n",
        "hist = thinkstats2.Hist([1, 2, 2, 3, 5])\n",
        "hist"
      ],
      "execution_count": 6,
      "outputs": [
        {
          "output_type": "execute_result",
          "data": {
            "text/plain": [
              "Hist({1: 1, 2: 2, 3: 1, 5: 1})"
            ]
          },
          "metadata": {
            "tags": []
          },
          "execution_count": 6
        }
      ]
    },
    {
      "cell_type": "markdown",
      "metadata": {
        "id": "5A-JJNJct2M2"
      },
      "source": [
        "`Hist` provides `Freq`, which looks up the frequency of a value."
      ]
    },
    {
      "cell_type": "code",
      "metadata": {
        "id": "Fo-r4aM_t2M4",
        "colab": {
          "base_uri": "https://localhost:8080/"
        },
        "outputId": "99ad348d-16e8-4732-b186-f0a8e46f1b8d"
      },
      "source": [
        "hist.Freq(2)"
      ],
      "execution_count": 7,
      "outputs": [
        {
          "output_type": "execute_result",
          "data": {
            "text/plain": [
              "2"
            ]
          },
          "metadata": {
            "tags": []
          },
          "execution_count": 7
        }
      ]
    },
    {
      "cell_type": "markdown",
      "metadata": {
        "id": "hG7xqUiJt2NA"
      },
      "source": [
        "You can also use the bracket operator, which does the same thing."
      ]
    },
    {
      "cell_type": "code",
      "metadata": {
        "id": "41wUgoI-t2NC",
        "colab": {
          "base_uri": "https://localhost:8080/"
        },
        "outputId": "4fc21df2-7674-4623-cb55-e923dbb90459"
      },
      "source": [
        "hist[2]"
      ],
      "execution_count": 8,
      "outputs": [
        {
          "output_type": "execute_result",
          "data": {
            "text/plain": [
              "2"
            ]
          },
          "metadata": {
            "tags": []
          },
          "execution_count": 8
        }
      ]
    },
    {
      "cell_type": "markdown",
      "metadata": {
        "id": "HAEXbyJyt2NP"
      },
      "source": [
        "If the value does not appear, it has frequency 0."
      ]
    },
    {
      "cell_type": "code",
      "metadata": {
        "id": "j0C_gum4t2NR",
        "colab": {
          "base_uri": "https://localhost:8080/"
        },
        "outputId": "660e45ad-8743-4781-c939-dd67a6baa923"
      },
      "source": [
        "hist[4]"
      ],
      "execution_count": 9,
      "outputs": [
        {
          "output_type": "execute_result",
          "data": {
            "text/plain": [
              "0"
            ]
          },
          "metadata": {
            "tags": []
          },
          "execution_count": 9
        }
      ]
    },
    {
      "cell_type": "markdown",
      "metadata": {
        "id": "REEETKiSt2NZ"
      },
      "source": [
        "The `Values` method returns the values:"
      ]
    },
    {
      "cell_type": "code",
      "metadata": {
        "id": "0te3Bee0t2NZ",
        "colab": {
          "base_uri": "https://localhost:8080/"
        },
        "outputId": "8f419177-a11e-4db0-f925-ac1c82841da2"
      },
      "source": [
        "hist.Values()"
      ],
      "execution_count": 10,
      "outputs": [
        {
          "output_type": "execute_result",
          "data": {
            "text/plain": [
              "dict_keys([1, 2, 3, 5])"
            ]
          },
          "metadata": {
            "tags": []
          },
          "execution_count": 10
        }
      ]
    },
    {
      "cell_type": "markdown",
      "metadata": {
        "id": "smX5sJvGt2Nf"
      },
      "source": [
        "So you can iterate the values and their frequencies like this:"
      ]
    },
    {
      "cell_type": "code",
      "metadata": {
        "id": "3zRAEihRt2Nf",
        "colab": {
          "base_uri": "https://localhost:8080/"
        },
        "outputId": "8e66c993-d8b3-4671-c5ea-cdb5cf215928"
      },
      "source": [
        "for val in sorted(hist.Values()):\n",
        "    print(val, hist[val])"
      ],
      "execution_count": 11,
      "outputs": [
        {
          "output_type": "stream",
          "text": [
            "1 1\n",
            "2 2\n",
            "3 1\n",
            "5 1\n"
          ],
          "name": "stdout"
        }
      ]
    },
    {
      "cell_type": "markdown",
      "metadata": {
        "id": "qbb55lSvt2Nk"
      },
      "source": [
        "Or you can use the `Items` method:"
      ]
    },
    {
      "cell_type": "code",
      "metadata": {
        "id": "Xm83i8Gdt2Nl",
        "colab": {
          "base_uri": "https://localhost:8080/"
        },
        "outputId": "869a38ca-75cf-45e3-d548-25c515b720bb"
      },
      "source": [
        "for val, freq in hist.Items():\n",
        "     print(val, freq)"
      ],
      "execution_count": 12,
      "outputs": [
        {
          "output_type": "stream",
          "text": [
            "1 1\n",
            "2 2\n",
            "3 1\n",
            "5 1\n"
          ],
          "name": "stdout"
        }
      ]
    },
    {
      "cell_type": "markdown",
      "metadata": {
        "id": "vS68_jRMt2Nr"
      },
      "source": [
        "`thinkplot` is a wrapper for `matplotlib` that provides functions that work with the objects in `thinkstats2`.\n",
        "\n",
        "For example `Hist` plots the values and their frequencies as a bar graph.\n",
        "\n",
        "`Config` takes parameters that label the x and y axes, among other things."
      ]
    },
    {
      "cell_type": "code",
      "metadata": {
        "id": "6XcgnLApt2Ns",
        "colab": {
          "base_uri": "https://localhost:8080/",
          "height": 279
        },
        "outputId": "dbfafd30-d6c5-4086-e471-559d096edc6c"
      },
      "source": [
        "import thinkplot\n",
        "thinkplot.Hist(hist)\n",
        "thinkplot.Config(xlabel='value', ylabel='frequency')"
      ],
      "execution_count": 13,
      "outputs": [
        {
          "output_type": "display_data",
          "data": {
            "image/png": "[encoded data removed]",
            "text/plain": [
              "<Figure size 432x288 with 1 Axes>"
            ]
          },
          "metadata": {
            "tags": [],
            "needs_background": "light"
          }
        }
      ]
    },
    {
      "cell_type": "markdown",
      "metadata": {
        "id": "YizlL843t2Ny"
      },
      "source": [
        "As an example, I'll replicate some of the figures from the book.\n",
        "\n",
        "First, I'll load the data from the pregnancy file and select the records for live births."
      ]
    },
    {
      "cell_type": "code",
      "metadata": {
        "id": "ymlpb5Qat2Nz"
      },
      "source": [
        "preg = nsfg.ReadFemPreg()\n",
        "live = preg[preg.outcome == 1]"
      ],
      "execution_count": 14,
      "outputs": []
    },
    {
      "cell_type": "markdown",
      "metadata": {
        "id": "hchWMwpjt2N3"
      },
      "source": [
        "Here's the histogram of birth weights in pounds.  Notice that `Hist` works with anything iterable, including a Pandas Series.  The `label` attribute appears in the legend when you plot the `Hist`. "
      ]
    },
    {
      "cell_type": "code",
      "metadata": {
        "id": "hTTivRtkt2N5",
        "colab": {
          "base_uri": "https://localhost:8080/",
          "height": 279
        },
        "outputId": "82328d30-8754-4ba8-8e0e-6f4e581ed773"
      },
      "source": [
        "hist = thinkstats2.Hist(live.birthwgt_lb, label='birthwgt_lb')\n",
        "thinkplot.Hist(hist)\n",
        "thinkplot.Config(xlabel='Birth weight (pounds)', ylabel='Count')"
      ],
      "execution_count": 15,
      "outputs": [
        {
          "output_type": "display_data",
          "data": {
            "image/png": "[encoded data removed]",
            "text/plain": [
              "<Figure size 432x288 with 1 Axes>"
            ]
          },
          "metadata": {
            "tags": [],
            "needs_background": "light"
          }
        }
      ]
    },
    {
      "cell_type": "markdown",
      "metadata": {
        "id": "Tx7he6hRt2N9"
      },
      "source": [
        "Before plotting the ages, I'll apply `floor` to round down:"
      ]
    },
    {
      "cell_type": "code",
      "metadata": {
        "id": "iGf3vHGst2N-"
      },
      "source": [
        "ages = np.floor(live.agepreg)"
      ],
      "execution_count": 16,
      "outputs": []
    },
    {
      "cell_type": "code",
      "metadata": {
        "id": "JurqTpDrt2OE",
        "colab": {
          "base_uri": "https://localhost:8080/",
          "height": 279
        },
        "outputId": "bb110194-45b2-4242-b8ca-1119dfc0e08b"
      },
      "source": [
        "hist = thinkstats2.Hist(ages, label='agepreg')\n",
        "thinkplot.Hist(hist)\n",
        "thinkplot.Config(xlabel='years', ylabel='Count')"
      ],
      "execution_count": 17,
      "outputs": [
        {
          "output_type": "display_data",
          "data": {
            "image/png": "[encoded data removed]",
            "text/plain": [
              "<Figure size 432x288 with 1 Axes>"
            ]
          },
          "metadata": {
            "tags": [],
            "needs_background": "light"
          }
        }
      ]
    },
    {
      "cell_type": "markdown",
      "metadata": {
        "id": "-Du7qwzzt2OJ"
      },
      "source": [
        "As an exercise, plot the histogram of pregnancy lengths (column `prglngth`)."
      ]
    },
    {
      "cell_type": "code",
      "metadata": {
        "id": "8rIObRJrt2OK",
        "colab": {
          "base_uri": "https://localhost:8080/",
          "height": 279
        },
        "outputId": "9777cced-5321-497c-f077-b7701b4dbc2b"
      },
      "source": [
        "# Solution goes here\n",
        "hist = thinkstats2.Hist(preg.prglngth, label='pregnancy length')\n",
        "thinkplot.Hist(hist)\n",
        "thinkplot.Config(xlabel='weeks', ylabel='count')"
      ],
      "execution_count": 18,
      "outputs": [
        {
          "output_type": "display_data",
          "data": {
            "image/png": "[encoded data removed]",
            "text/plain": [
              "<Figure size 432x288 with 1 Axes>"
            ]
          },
          "metadata": {
            "tags": [],
            "needs_background": "light"
          }
        }
      ]
    },
    {
      "cell_type": "markdown",
      "metadata": {
        "id": "ikyHEwiOt2OS"
      },
      "source": [
        "`Hist` provides smallest, which select the lowest values and their frequencies."
      ]
    },
    {
      "cell_type": "code",
      "metadata": {
        "id": "l4meuYz1t2OT",
        "colab": {
          "base_uri": "https://localhost:8080/"
        },
        "outputId": "c0066625-d380-47f5-bc6e-7fd06773b3a4"
      },
      "source": [
        "for weeks, freq in hist.Smallest(10):\n",
        "    print(weeks, freq)"
      ],
      "execution_count": 19,
      "outputs": [
        {
          "output_type": "stream",
          "text": [
            "0 15\n",
            "1 9\n",
            "2 78\n",
            "3 151\n",
            "4 412\n",
            "5 181\n",
            "6 543\n",
            "7 175\n",
            "8 409\n",
            "9 594\n"
          ],
          "name": "stdout"
        }
      ]
    },
    {
      "cell_type": "markdown",
      "metadata": {
        "id": "zsPDhkM3t2OZ"
      },
      "source": [
        "Use `Largest` to display the longest pregnancy lengths."
      ]
    },
    {
      "cell_type": "code",
      "metadata": {
        "id": "5AEztpgpt2OZ",
        "colab": {
          "base_uri": "https://localhost:8080/"
        },
        "outputId": "92ca5ec8-355f-43a8-9251-d57353d198df"
      },
      "source": [
        "# Solution goes here\n",
        "for weeks, freq in hist.Largest(10):\n",
        "  print(weeks, freq)"
      ],
      "execution_count": 20,
      "outputs": [
        {
          "output_type": "stream",
          "text": [
            "50 2\n",
            "48 7\n",
            "47 1\n",
            "46 1\n",
            "45 10\n",
            "44 46\n",
            "43 148\n",
            "42 328\n",
            "41 591\n",
            "40 1120\n"
          ],
          "name": "stdout"
        }
      ]
    },
    {
      "cell_type": "markdown",
      "metadata": {
        "id": "48YdQFigt2Od"
      },
      "source": [
        "From live births, we can select first babies and others using `birthord`, then compute histograms of pregnancy length for the two groups."
      ]
    },
    {
      "cell_type": "code",
      "metadata": {
        "id": "uyQNoZQLt2Od"
      },
      "source": [
        "firsts = live[live.birthord == 1]\n",
        "others = live[live.birthord != 1]\n",
        "\n",
        "first_hist = thinkstats2.Hist(firsts.prglngth, label='first')\n",
        "other_hist = thinkstats2.Hist(others.prglngth, label='other')"
      ],
      "execution_count": 21,
      "outputs": []
    },
    {
      "cell_type": "markdown",
      "metadata": {
        "id": "LRoYVr5ct2Oh"
      },
      "source": [
        "We can use `width` and `align` to plot two histograms side-by-side."
      ]
    },
    {
      "cell_type": "code",
      "metadata": {
        "id": "2hZbwhU1t2Oi",
        "colab": {
          "base_uri": "https://localhost:8080/",
          "height": 279
        },
        "outputId": "44920293-857c-40cb-e4ca-93555314eadc"
      },
      "source": [
        "width = 0.45\n",
        "thinkplot.PrePlot(2)\n",
        "thinkplot.Hist(first_hist, align='right', width=width)\n",
        "thinkplot.Hist(other_hist, align='left', width=width)\n",
        "thinkplot.Config(xlabel='weeks', ylabel='Count', xlim=[27, 46])"
      ],
      "execution_count": 22,
      "outputs": [
        {
          "output_type": "display_data",
          "data": {
            "image/png": "[encoded data removed]",
            "text/plain": [
              "<Figure size 432x288 with 1 Axes>"
            ]
          },
          "metadata": {
            "tags": [],
            "needs_background": "light"
          }
        }
      ]
    },
    {
      "cell_type": "markdown",
      "metadata": {
        "id": "-7usMJsrt2Om"
      },
      "source": [
        "`Series` provides methods to compute summary statistics:"
      ]
    },
    {
      "cell_type": "code",
      "metadata": {
        "id": "iBr3IQt0t2On"
      },
      "source": [
        "mean = live.prglngth.mean()\n",
        "var = live.prglngth.var()\n",
        "std = live.prglngth.std()"
      ],
      "execution_count": 23,
      "outputs": []
    },
    {
      "cell_type": "markdown",
      "metadata": {
        "id": "uKuks6Fzt2Or"
      },
      "source": [
        "Here are the mean and standard deviation:"
      ]
    },
    {
      "cell_type": "code",
      "metadata": {
        "id": "wnCkbCdjt2Os",
        "colab": {
          "base_uri": "https://localhost:8080/"
        },
        "outputId": "d03400da-b566-49d4-f3e3-930df9423e45"
      },
      "source": [
        "mean, std"
      ],
      "execution_count": 24,
      "outputs": [
        {
          "output_type": "execute_result",
          "data": {
            "text/plain": [
              "(38.56055968517709, 2.702343810070593)"
            ]
          },
          "metadata": {
            "tags": []
          },
          "execution_count": 24
        }
      ]
    },
    {
      "cell_type": "markdown",
      "metadata": {
        "id": "C732xemnt2Ox"
      },
      "source": [
        "As an exercise, confirm that `std` is the square root of `var`:"
      ]
    },
    {
      "cell_type": "code",
      "metadata": {
        "id": "I4mKEr57t2Oy"
      },
      "source": [
        "# Solution goes here\n",
        "assert std*std == var"
      ],
      "execution_count": 25,
      "outputs": []
    },
    {
      "cell_type": "markdown",
      "metadata": {
        "id": "e6hedw18t2O1"
      },
      "source": [
        "Here's are the mean pregnancy lengths for first babies and others:"
      ]
    },
    {
      "cell_type": "code",
      "metadata": {
        "id": "50s4-wbMt2O2",
        "colab": {
          "base_uri": "https://localhost:8080/"
        },
        "outputId": "d5a57bae-e345-4ad9-ea51-c3f06af6cc5a"
      },
      "source": [
        "firsts.prglngth.mean(), others.prglngth.mean()"
      ],
      "execution_count": 26,
      "outputs": [
        {
          "output_type": "execute_result",
          "data": {
            "text/plain": [
              "(38.60095173351461, 38.52291446673706)"
            ]
          },
          "metadata": {
            "tags": []
          },
          "execution_count": 26
        }
      ]
    },
    {
      "cell_type": "markdown",
      "metadata": {
        "id": "iYYijg39t2O6"
      },
      "source": [
        "And here's the difference (in weeks):"
      ]
    },
    {
      "cell_type": "code",
      "metadata": {
        "id": "eD77woiLt2O7",
        "colab": {
          "base_uri": "https://localhost:8080/"
        },
        "outputId": "a5acee7c-1207-4b59-dbb3-4b93fafaf5d4"
      },
      "source": [
        "firsts.prglngth.mean() - others.prglngth.mean()"
      ],
      "execution_count": 27,
      "outputs": [
        {
          "output_type": "execute_result",
          "data": {
            "text/plain": [
              "0.07803726677754952"
            ]
          },
          "metadata": {
            "tags": []
          },
          "execution_count": 27
        }
      ]
    },
    {
      "cell_type": "markdown",
      "metadata": {
        "id": "x8XPSI_-t2O-"
      },
      "source": [
        "This functon computes the Cohen effect size, which is the difference in means expressed in number of standard deviations:"
      ]
    },
    {
      "cell_type": "code",
      "metadata": {
        "id": "IadAI56wt2O_"
      },
      "source": [
        "def CohenEffectSize(group1, group2):\n",
        "    \"\"\"Computes Cohen's effect size for two groups.\n",
        "    \n",
        "    group1: Series or DataFrame\n",
        "    group2: Series or DataFrame\n",
        "    \n",
        "    returns: float if the arguments are Series;\n",
        "             Series if the arguments are DataFrames\n",
        "    \"\"\"\n",
        "    diff = group1.mean() - group2.mean()\n",
        "\n",
        "    var1 = group1.var()\n",
        "    var2 = group2.var()\n",
        "    n1, n2 = len(group1), len(group2)\n",
        "\n",
        "    pooled_var = (n1 * var1 + n2 * var2) / (n1 + n2)\n",
        "    d = diff / np.sqrt(pooled_var)\n",
        "    return d"
      ],
      "execution_count": 28,
      "outputs": []
    },
    {
      "cell_type": "markdown",
      "metadata": {
        "id": "yYaA9cyEt2PD"
      },
      "source": [
        "Compute the Cohen effect size for the difference in pregnancy length for first babies and others."
      ]
    },
    {
      "cell_type": "code",
      "metadata": {
        "id": "x_r4WF-ut2PD",
        "colab": {
          "base_uri": "https://localhost:8080/"
        },
        "outputId": "4d1f8f6f-f11f-4c2b-f892-4cea3f5a22f2"
      },
      "source": [
        "# Solution goes here\n",
        "d = CohenEffectSize(firsts.prglngth, others.prglngth)\n",
        "print(d)"
      ],
      "execution_count": 29,
      "outputs": [
        {
          "output_type": "stream",
          "text": [
            "0.028879044654449883\n"
          ],
          "name": "stdout"
        }
      ]
    },
    {
      "cell_type": "markdown",
      "metadata": {
        "collapsed": true,
        "id": "jHFXUeI_t2PG"
      },
      "source": [
        "## Exercises"
      ]
    },
    {
      "cell_type": "markdown",
      "metadata": {
        "id": "EnI6jMFKt2PH"
      },
      "source": [
        "Using the variable `totalwgt_lb`, investigate whether first babies are lighter or heavier than others. \n",
        "\n",
        "Compute Cohen’s effect size to quantify the difference between the groups.  How does it compare to the difference in pregnancy length?"
      ]
    },
    {
      "cell_type": "code",
      "metadata": {
        "id": "Iqsm3Cy3t2PI",
        "colab": {
          "base_uri": "https://localhost:8080/"
        },
        "outputId": "2103ce33-4c68-4eb7-94f4-8a289861c7cd"
      },
      "source": [
        "# Solution goes here\n",
        "firsts.totalwgt_lb.mean(), others.totalwgt_lb.mean()"
      ],
      "execution_count": 30,
      "outputs": [
        {
          "output_type": "execute_result",
          "data": {
            "text/plain": [
              "(7.201094430437772, 7.325855614973262)"
            ]
          },
          "metadata": {
            "tags": []
          },
          "execution_count": 30
        }
      ]
    },
    {
      "cell_type": "code",
      "metadata": {
        "id": "1OQb9a21t2PL",
        "outputId": "bdb9fedd-2ab4-433e-e6ea-4ad0bb77eb97",
        "colab": {
          "base_uri": "https://localhost:8080/"
        }
      },
      "source": [
        "# Solution goes here\n",
        "diff = CohenEffectSize(firsts.totalwgt_lb, others.totalwgt_lb)\n",
        "print(diff)"
      ],
      "execution_count": 31,
      "outputs": [
        {
          "output_type": "stream",
          "text": [
            "-0.088672927072602\n"
          ],
          "name": "stdout"
        }
      ]
    },
    {
      "cell_type": "markdown",
      "metadata": {
        "id": "EEZxDKVDt2PP"
      },
      "source": [
        "For the next few exercises, we'll load the respondent file:"
      ]
    },
    {
      "cell_type": "code",
      "metadata": {
        "id": "a6BCUfp2t2PQ"
      },
      "source": [
        "resp = nsfg.ReadFemResp()"
      ],
      "execution_count": 32,
      "outputs": []
    },
    {
      "cell_type": "markdown",
      "metadata": {
        "id": "_PJzlxVvt2PT"
      },
      "source": [
        "Make a histogram of <tt>totincr</tt> the total income for the respondent's family.  To interpret the codes see the [codebook](http://www.icpsr.umich.edu/nsfg6/Controller?displayPage=labelDetails&fileCode=FEM&section=R&subSec=7876&srtLabel=607543)."
      ]
    },
    {
      "cell_type": "code",
      "metadata": {
        "id": "qiu-UJ-Ut2PT",
        "outputId": "1c3aeb20-8990-4207-ba13-ebe52dec0a7e",
        "colab": {
          "base_uri": "https://localhost:8080/",
          "height": 280
        }
      },
      "source": [
        "# Solution goes here\n",
        "hist = thinkstats2.Hist(resp.totincr, label='Total Income')\n",
        "thinkplot.Hist(hist)\n",
        "thinkplot.Config(xlabel='Income bin', ylabel='Count')"
      ],
      "execution_count": 35,
      "outputs": [
        {
          "output_type": "display_data",
          "data": {
            "image/png": "[encoded data removed]",
            "text/plain": [
              "<Figure size 432x288 with 1 Axes>"
            ]
          },
          "metadata": {
            "tags": [],
            "needs_background": "light"
          }
        }
      ]
    },
    {
      "cell_type": "markdown",
      "metadata": {
        "id": "BEimJx7st2PW"
      },
      "source": [
        "Make a histogram of <tt>age_r</tt>, the respondent's age at the time of interview."
      ]
    },
    {
      "cell_type": "code",
      "metadata": {
        "id": "F1unvru4t2PX",
        "outputId": "50fa59e2-63a6-4e89-e45b-82daea7e1078",
        "colab": {
          "base_uri": "https://localhost:8080/",
          "height": 279
        }
      },
      "source": [
        "# Solution goes here\n",
        "hist = thinkstats2.Hist(resp.age_r, label='Age')\n",
        "thinkplot.Hist(hist)\n",
        "thinkplot.Config(xlabel='Age', ylabel='Count')"
      ],
      "execution_count": 36,
      "outputs": [
        {
          "output_type": "display_data",
          "data": {
            "image/png": "[encoded data removed]",
            "text/plain": [
              "<Figure size 432x288 with 1 Axes>"
            ]
          },
          "metadata": {
            "tags": [],
            "needs_background": "light"
          }
        }
      ]
    },
    {
      "cell_type": "markdown",
      "metadata": {
        "id": "6hvaaBrbt2Pa"
      },
      "source": [
        "Make a histogram of <tt>numfmhh</tt>, the number of people in the respondent's household."
      ]
    },
    {
      "cell_type": "code",
      "metadata": {
        "id": "8UWvjXrrt2Pb",
        "outputId": "4bd9cb4a-313e-4dcf-a844-a4a2d4a7e197",
        "colab": {
          "base_uri": "https://localhost:8080/",
          "height": 279
        }
      },
      "source": [
        "# Solution goes here\n",
        "hist = thinkstats2.Hist(resp.numfmhh, label='Family Size')\n",
        "thinkplot.Hist(hist)\n",
        "thinkplot.Config(xlabel='Family Size', ylabel='Count')"
      ],
      "execution_count": 37,
      "outputs": [
        {
          "output_type": "display_data",
          "data": {
            "image/png": "[encoded data removed]",
            "text/plain": [
              "<Figure size 432x288 with 1 Axes>"
            ]
          },
          "metadata": {
            "tags": [],
            "needs_background": "light"
          }
        }
      ]
    },
    {
      "cell_type": "markdown",
      "metadata": {
        "id": "ohCF4-OSt2Pe"
      },
      "source": [
        "Make a histogram of <tt>parity</tt>, the number of children borne by the respondent.  How would you describe this distribution?"
      ]
    },
    {
      "cell_type": "code",
      "metadata": {
        "id": "UqPpm2cIt2Pe",
        "outputId": "241eb75b-170b-46d2-b73b-c7449db84bda",
        "colab": {
          "base_uri": "https://localhost:8080/",
          "height": 279
        }
      },
      "source": [
        "# Solution goes here\n",
        "hist = thinkstats2.Hist(resp.parity, label='Number of Children')\n",
        "thinkplot.Hist(hist)\n",
        "thinkplot.Config(xlabel='Children', ylabel='Count')"
      ],
      "execution_count": 39,
      "outputs": [
        {
          "output_type": "display_data",
          "data": {
            "image/png": "[encoded data removed]",
            "text/plain": [
              "<Figure size 432x288 with 1 Axes>"
            ]
          },
          "metadata": {
            "tags": [],
            "needs_background": "light"
          }
        }
      ]
    },
    {
      "cell_type": "markdown",
      "metadata": {
        "id": "-DAPHjA1t2Pk"
      },
      "source": [
        "Use Hist.Largest to find the largest values of <tt>parity</tt>."
      ]
    },
    {
      "cell_type": "code",
      "metadata": {
        "id": "xOE3u49Ut2Pk",
        "outputId": "63ad844e-2a29-4493-ebf3-0a2e7c32d1db",
        "colab": {
          "base_uri": "https://localhost:8080/"
        }
      },
      "source": [
        "# Solution goes here\n",
        "hist.Largest(5)"
      ],
      "execution_count": 42,
      "outputs": [
        {
          "output_type": "execute_result",
          "data": {
            "text/plain": [
              "[(22, 1), (16, 1), (10, 3), (9, 2), (8, 8)]"
            ]
          },
          "metadata": {
            "tags": []
          },
          "execution_count": 42
        }
      ]
    },
    {
      "cell_type": "markdown",
      "metadata": {
        "id": "-cJ274dht2Pr"
      },
      "source": [
        "Let's investigate whether people with higher income have higher parity.  Keep in mind that in this study, we are observing different people at different times during their lives, so this data is not the best choice for answering this question.  But for now let's take it at face value.\n",
        "\n",
        "Use <tt>totincr</tt> to select the respondents with the highest income (level 14).  Plot the histogram of <tt>parity</tt> for just the high income respondents."
      ]
    },
    {
      "cell_type": "code",
      "metadata": {
        "id": "zNFTs-iLt2Ps",
        "outputId": "84875093-f70d-4c79-b6f3-942c469b797e",
        "colab": {
          "base_uri": "https://localhost:8080/",
          "height": 279
        }
      },
      "source": [
        "# Solution goes here\n",
        "highincome = resp[resp.totincr == 14]\n",
        "others = resp[resp.totincr != 14]\n",
        "\n",
        "highincome_hist = thinkstats2.Hist(highincome.parity, label='high income')\n",
        "other_hist = thinkstats2.Hist(others.parity, label='other')\n",
        "\n",
        "width = 0.45\n",
        "thinkplot.PrePlot(2)\n",
        "thinkplot.Hist(highincome_hist, align='right', width=width)\n",
        "thinkplot.Hist(other_hist, align='left', width=width)\n",
        "thinkplot.Config(xlabel='Parity', ylabel='Count', xlim=[0,6])"
      ],
      "execution_count": 47,
      "outputs": [
        {
          "output_type": "display_data",
          "data": {
            "image/png": "[encoded data removed]",
            "text/plain": [
              "<Figure size 432x288 with 1 Axes>"
            ]
          },
          "metadata": {
            "tags": [],
            "needs_background": "light"
          }
        }
      ]
    },
    {
      "cell_type": "markdown",
      "metadata": {
        "id": "i0xdwY7st2Px"
      },
      "source": [
        "Find the largest parities for high income respondents."
      ]
    },
    {
      "cell_type": "code",
      "metadata": {
        "id": "VrrYVjcCt2Py",
        "outputId": "fb85e7d5-d8be-4a0f-8f80-7d73fcfa083e",
        "colab": {
          "base_uri": "https://localhost:8080/"
        }
      },
      "source": [
        "# Solution goes here\n",
        "highincome_hist.Largest(3)"
      ],
      "execution_count": 50,
      "outputs": [
        {
          "output_type": "execute_result",
          "data": {
            "text/plain": [
              "[(8, 1), (7, 1), (5, 5)]"
            ]
          },
          "metadata": {
            "tags": []
          },
          "execution_count": 50
        }
      ]
    },
    {
      "cell_type": "markdown",
      "metadata": {
        "id": "Wo_HHdeXt2P2"
      },
      "source": [
        "Compare the mean <tt>parity</tt> for high income respondents and others."
      ]
    },
    {
      "cell_type": "code",
      "metadata": {
        "id": "4zJ_Ghgnt2P3",
        "outputId": "d61e7355-0133-438e-8599-643d1bf3f8db",
        "colab": {
          "base_uri": "https://localhost:8080/"
        }
      },
      "source": [
        "# Solution goes here\n",
        "highincome.parity.mean(), others.parity.mean()"
      ],
      "execution_count": 52,
      "outputs": [
        {
          "output_type": "execute_result",
          "data": {
            "text/plain": [
              "(1.0758620689655172, 1.2495758136665125)"
            ]
          },
          "metadata": {
            "tags": []
          },
          "execution_count": 52
        }
      ]
    },
    {
      "cell_type": "markdown",
      "metadata": {
        "id": "F0MHYLHMt2P7"
      },
      "source": [
        "Compute the Cohen effect size for this difference.  How does it compare with the difference in pregnancy length for first babies and others?"
      ]
    },
    {
      "cell_type": "code",
      "metadata": {
        "id": "KTGqhwUet2P7",
        "outputId": "ce0a3c26-f1c3-4a3a-b666-364cc25080d0",
        "colab": {
          "base_uri": "https://localhost:8080/"
        }
      },
      "source": [
        "# Solution goes here\n",
        "diff = CohenEffectSize(highincome.parity, others.parity)\n",
        "print(diff)"
      ],
      "execution_count": 53,
      "outputs": [
        {
          "output_type": "stream",
          "text": [
            "-0.1251185531466061\n"
          ],
          "name": "stdout"
        }
      ]
    },
    {
      "cell_type": "code",
      "metadata": {
        "id": "HgQSvQVut2P-"
      },
      "source": [
        ""
      ],
      "execution_count": null,
      "outputs": []
    }
  ]
}