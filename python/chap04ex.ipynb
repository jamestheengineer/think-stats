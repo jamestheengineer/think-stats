{
  "nbformat": 4,
  "nbformat_minor": 0,
  "metadata": {
    "kernelspec": {
      "display_name": "Python 3",
      "language": "python",
      "name": "python3"
    },
    "language_info": {
      "codemirror_mode": {
        "name": "ipython",
        "version": 3
      },
      "file_extension": ".py",
      "mimetype": "text/x-python",
      "name": "python",
      "nbconvert_exporter": "python",
      "pygments_lexer": "ipython3",
      "version": "3.6.7"
    },
    "colab": {
      "name": "chap04ex.ipynb",
      "provenance": [],
      "include_colab_link": true
    }
  },
  "cells": [
    {
      "cell_type": "markdown",
      "metadata": {
        "id": "view-in-github",
        "colab_type": "text"
      },
      "source": [
        "<a href=\"https://colab.research.google.com/github/jamestheengineer/think-stats/blob/main/python/chap04ex.ipynb\" target=\"_parent\"><img src=\"https://colab.research.google.com/assets/colab-badge.svg\" alt=\"Open In Colab\"/></a>"
      ]
    },
    {
      "cell_type": "code",
      "metadata": {
        "id": "iT7AFHBfKGQn",
        "outputId": "80d631c4-b9ca-4bb8-c616-406430d43b51",
        "colab": {
          "base_uri": "https://localhost:8080/"
        }
      },
      "source": [
        "# Only do this once per VM, otherwise you'll get multiple clones and nested directories\r\n",
        "!git clone https://github.com/AllenDowney/ThinkStats2.git\r\n",
        "%cd ThinkStats2/code"
      ],
      "execution_count": 1,
      "outputs": [
        {
          "output_type": "stream",
          "text": [
            "Cloning into 'ThinkStats2'...\n",
            "remote: Enumerating objects: 2807, done.\u001b[K\n",
            "remote: Total 2807 (delta 0), reused 0 (delta 0), pack-reused 2807\u001b[K\n",
            "Receiving objects: 100% (2807/2807), 172.29 MiB | 22.97 MiB/s, done.\n",
            "Resolving deltas: 100% (1600/1600), done.\n",
            "Checking out files: 100% (485/485), done.\n",
            "/content/ThinkStats2/code\n"
          ],
          "name": "stdout"
        }
      ]
    },
    {
      "cell_type": "markdown",
      "metadata": {
        "id": "GniKeUJCQgoU"
      },
      "source": [
        "# Examples and Exercises from Think Stats, 2nd Edition\n",
        "\n",
        "http://thinkstats2.com\n",
        "\n",
        "Copyright 2016 Allen B. Downey\n",
        "\n",
        "MIT License: https://opensource.org/licenses/MIT\n"
      ]
    },
    {
      "cell_type": "code",
      "metadata": {
        "id": "-7sAtyAbQgoU"
      },
      "source": [
        "from __future__ import print_function, division\n",
        "\n",
        "%matplotlib inline\n",
        "\n",
        "import numpy as np\n",
        "\n",
        "import nsfg\n",
        "import first\n",
        "import thinkstats2\n",
        "import thinkplot"
      ],
      "execution_count": 2,
      "outputs": []
    },
    {
      "cell_type": "markdown",
      "metadata": {
        "id": "dSLcA_otQgoU"
      },
      "source": [
        "## Examples\n",
        "\n",
        "One more time, I'll load the data from the NSFG."
      ]
    },
    {
      "cell_type": "code",
      "metadata": {
        "id": "rNEVnH0zQgoU"
      },
      "source": [
        "live, firsts, others = first.MakeFrames()"
      ],
      "execution_count": 3,
      "outputs": []
    },
    {
      "cell_type": "markdown",
      "metadata": {
        "id": "HRpM_m8lQgoU"
      },
      "source": [
        "And compute the distribution of birth weight for first babies and others."
      ]
    },
    {
      "cell_type": "code",
      "metadata": {
        "id": "Ta8_fAdzQgoU",
        "outputId": "27fc190e-1454-420b-92bf-804e358a9551",
        "colab": {
          "base_uri": "https://localhost:8080/"
        }
      },
      "source": [
        "first_wgt = firsts.totalwgt_lb\n",
        "first_wgt_dropna = first_wgt.dropna()\n",
        "print('Firsts', len(first_wgt), len(first_wgt_dropna))\n",
        " \n",
        "other_wgt = others.totalwgt_lb\n",
        "other_wgt_dropna = other_wgt.dropna()\n",
        "print('Others', len(other_wgt), len(other_wgt_dropna))\n",
        "\n",
        "first_pmf = thinkstats2.Pmf(first_wgt_dropna, label='first')\n",
        "other_pmf = thinkstats2.Pmf(other_wgt_dropna, label='other')"
      ],
      "execution_count": 4,
      "outputs": [
        {
          "output_type": "stream",
          "text": [
            "Firsts 4413 4363\n",
            "Others 4735 4675\n"
          ],
          "name": "stdout"
        }
      ]
    },
    {
      "cell_type": "markdown",
      "metadata": {
        "id": "nFn9ppc0QgoV"
      },
      "source": [
        "We can plot the PMFs on the same scale, but it is hard to see if there is a difference."
      ]
    },
    {
      "cell_type": "code",
      "metadata": {
        "id": "37rLiqJDQgoV",
        "outputId": "959cf6a1-b0ef-47ff-d5af-419f1fe153cd",
        "colab": {
          "base_uri": "https://localhost:8080/",
          "height": 279
        }
      },
      "source": [
        "width = 0.4 / 16\n",
        "\n",
        "# plot PMFs of birth weights for first babies and others\n",
        "thinkplot.PrePlot(2)\n",
        "thinkplot.Hist(first_pmf, align='right', width=width)\n",
        "thinkplot.Hist(other_pmf, align='left', width=width)\n",
        "thinkplot.Config(xlabel='Weight (pounds)', ylabel='PMF')"
      ],
      "execution_count": 5,
      "outputs": [
        {
          "output_type": "display_data",
          "data": {
            "image/png": "[encoded data removed]",
            "text/plain": [
              "<Figure size 432x288 with 1 Axes>"
            ]
          },
          "metadata": {
            "tags": [],
            "needs_background": "light"
          }
        }
      ]
    },
    {
      "cell_type": "markdown",
      "metadata": {
        "id": "xhUCs7TbQgoV"
      },
      "source": [
        "`PercentileRank` computes the fraction of `scores` less than or equal to `your_score`."
      ]
    },
    {
      "cell_type": "code",
      "metadata": {
        "id": "S65dKsf2QgoV"
      },
      "source": [
        "def PercentileRank(scores, your_score):\n",
        "    count = 0\n",
        "    for score in scores:\n",
        "        if score <= your_score:\n",
        "            count += 1\n",
        "\n",
        "    percentile_rank = 100.0 * count / len(scores)\n",
        "    return percentile_rank"
      ],
      "execution_count": 6,
      "outputs": []
    },
    {
      "cell_type": "markdown",
      "metadata": {
        "id": "S7Ik6oBOQgoV"
      },
      "source": [
        "If this is the list of scores."
      ]
    },
    {
      "cell_type": "code",
      "metadata": {
        "id": "cOVuDikNQgoV"
      },
      "source": [
        "t = [55, 66, 77, 88, 99]"
      ],
      "execution_count": 7,
      "outputs": []
    },
    {
      "cell_type": "markdown",
      "metadata": {
        "id": "zj_BM-t9QgoV"
      },
      "source": [
        "And you got the 88, your percentile rank is 80."
      ]
    },
    {
      "cell_type": "code",
      "metadata": {
        "id": "SoRKv12XQgoV",
        "outputId": "6b62d067-358d-405d-fe4e-5dbb585296d0",
        "colab": {
          "base_uri": "https://localhost:8080/"
        }
      },
      "source": [
        "PercentileRank(t, 88)"
      ],
      "execution_count": 8,
      "outputs": [
        {
          "output_type": "execute_result",
          "data": {
            "text/plain": [
              "80.0"
            ]
          },
          "metadata": {
            "tags": []
          },
          "execution_count": 8
        }
      ]
    },
    {
      "cell_type": "markdown",
      "metadata": {
        "id": "XhnF3mQdQgoV"
      },
      "source": [
        "`Percentile` takes a percentile rank and computes the corresponding percentile. "
      ]
    },
    {
      "cell_type": "code",
      "metadata": {
        "id": "-ZljKZHdQgoV"
      },
      "source": [
        "def Percentile(scores, percentile_rank):\n",
        "    scores.sort()\n",
        "    for score in scores:\n",
        "        if PercentileRank(scores, score) >= percentile_rank:\n",
        "            return score"
      ],
      "execution_count": 9,
      "outputs": []
    },
    {
      "cell_type": "markdown",
      "metadata": {
        "id": "OwjAuFm8QgoV"
      },
      "source": [
        "The median is the 50th percentile, which is 77."
      ]
    },
    {
      "cell_type": "code",
      "metadata": {
        "id": "WdRLulvcQgoV",
        "outputId": "eaa69d3b-5d9e-4ec0-9243-5116a2f09745",
        "colab": {
          "base_uri": "https://localhost:8080/"
        }
      },
      "source": [
        "Percentile(t, 50)"
      ],
      "execution_count": 10,
      "outputs": [
        {
          "output_type": "execute_result",
          "data": {
            "text/plain": [
              "77"
            ]
          },
          "metadata": {
            "tags": []
          },
          "execution_count": 10
        }
      ]
    },
    {
      "cell_type": "markdown",
      "metadata": {
        "id": "phiO8DCjQgoV"
      },
      "source": [
        "Here's a more efficient way to compute percentiles."
      ]
    },
    {
      "cell_type": "code",
      "metadata": {
        "id": "G1PHh6sCQgoV"
      },
      "source": [
        "def Percentile2(scores, percentile_rank):\n",
        "    scores.sort()\n",
        "    index = percentile_rank * (len(scores)-1) // 100\n",
        "    return scores[index]"
      ],
      "execution_count": 11,
      "outputs": []
    },
    {
      "cell_type": "markdown",
      "metadata": {
        "id": "EGCOSGoCQgoV"
      },
      "source": [
        "Let's hope we get the same answer."
      ]
    },
    {
      "cell_type": "code",
      "metadata": {
        "id": "PZVLBAJeQgoV",
        "outputId": "1031e34e-44fc-4689-e152-99f351bd90ef",
        "colab": {
          "base_uri": "https://localhost:8080/"
        }
      },
      "source": [
        "Percentile2(t, 50)"
      ],
      "execution_count": 12,
      "outputs": [
        {
          "output_type": "execute_result",
          "data": {
            "text/plain": [
              "77"
            ]
          },
          "metadata": {
            "tags": []
          },
          "execution_count": 12
        }
      ]
    },
    {
      "cell_type": "markdown",
      "metadata": {
        "id": "pAu1pwpBQgoV"
      },
      "source": [
        "The Cumulative Distribution Function (CDF) is almost the same as `PercentileRank`.  The only difference is that the result is 0-1 instead of 0-100."
      ]
    },
    {
      "cell_type": "code",
      "metadata": {
        "id": "x1IGXPJzQgoV"
      },
      "source": [
        "def EvalCdf(sample, x):\n",
        "    count = 0.0\n",
        "    for value in sample:\n",
        "        if value <= x:\n",
        "            count += 1\n",
        "\n",
        "    prob = count / len(sample)\n",
        "    return prob"
      ],
      "execution_count": 13,
      "outputs": []
    },
    {
      "cell_type": "markdown",
      "metadata": {
        "id": "ZQ3jMWg3QgoV"
      },
      "source": [
        "In this list"
      ]
    },
    {
      "cell_type": "code",
      "metadata": {
        "id": "Kbv_uWQDQgoV"
      },
      "source": [
        "t = [1, 2, 2, 3, 5]"
      ],
      "execution_count": 14,
      "outputs": []
    },
    {
      "cell_type": "markdown",
      "metadata": {
        "id": "7uFjHIKfQgoV"
      },
      "source": [
        "We can evaluate the CDF for various values:"
      ]
    },
    {
      "cell_type": "code",
      "metadata": {
        "id": "b2U2z305QgoV",
        "outputId": "9273c37a-6b65-443e-c9cb-d248df1ded23",
        "colab": {
          "base_uri": "https://localhost:8080/"
        }
      },
      "source": [
        "EvalCdf(t, 0), EvalCdf(t, 1), EvalCdf(t, 2), EvalCdf(t, 3), EvalCdf(t, 4), EvalCdf(t, 5)"
      ],
      "execution_count": 15,
      "outputs": [
        {
          "output_type": "execute_result",
          "data": {
            "text/plain": [
              "(0.0, 0.2, 0.6, 0.8, 0.8, 1.0)"
            ]
          },
          "metadata": {
            "tags": []
          },
          "execution_count": 15
        }
      ]
    },
    {
      "cell_type": "markdown",
      "metadata": {
        "id": "zFxikykBQgoV"
      },
      "source": [
        "Here's an example using real data, the distribution of pregnancy length for live births."
      ]
    },
    {
      "cell_type": "code",
      "metadata": {
        "id": "iwMTvDkJQgoV",
        "outputId": "03f7e8d8-a94b-46ea-b25f-fdf91ad506ac",
        "colab": {
          "base_uri": "https://localhost:8080/",
          "height": 279
        }
      },
      "source": [
        "cdf = thinkstats2.Cdf(live.prglngth, label='prglngth')\n",
        "thinkplot.Cdf(cdf)\n",
        "thinkplot.Config(xlabel='Pregnancy length (weeks)', ylabel='CDF', loc='upper left')"
      ],
      "execution_count": 16,
      "outputs": [
        {
          "output_type": "display_data",
          "data": {
            "image/png": "[encoded data removed]",
            "text/plain": [
              "<Figure size 432x288 with 1 Axes>"
            ]
          },
          "metadata": {
            "tags": [],
            "needs_background": "light"
          }
        }
      ]
    },
    {
      "cell_type": "markdown",
      "metadata": {
        "id": "9FCyYco8QgoW"
      },
      "source": [
        "`Cdf` provides `Prob`, which evaluates the CDF; that is, it computes the fraction of values less than or equal to the given value.  For example, 94% of pregnancy lengths are less than or equal to 41."
      ]
    },
    {
      "cell_type": "code",
      "metadata": {
        "id": "g6XBifRAQgoW",
        "outputId": "9e8f45cb-5ed6-455a-a1a5-499d2d26c19b",
        "colab": {
          "base_uri": "https://localhost:8080/"
        }
      },
      "source": [
        "cdf.Prob(41)"
      ],
      "execution_count": 17,
      "outputs": [
        {
          "output_type": "execute_result",
          "data": {
            "text/plain": [
              "0.9406427634455619"
            ]
          },
          "metadata": {
            "tags": []
          },
          "execution_count": 17
        }
      ]
    },
    {
      "cell_type": "markdown",
      "metadata": {
        "collapsed": true,
        "id": "hf4u9V8KQgoW"
      },
      "source": [
        "`Value` evaluates the inverse CDF; given a fraction, it computes the corresponding value.  For example, the median is the value that corresponds to 0.5."
      ]
    },
    {
      "cell_type": "code",
      "metadata": {
        "id": "o9BxZ0mgQgoW",
        "outputId": "0fbd6018-da71-4e19-d5ce-e8d708b3f320",
        "colab": {
          "base_uri": "https://localhost:8080/"
        }
      },
      "source": [
        "cdf.Value(0.5)"
      ],
      "execution_count": 18,
      "outputs": [
        {
          "output_type": "execute_result",
          "data": {
            "text/plain": [
              "39"
            ]
          },
          "metadata": {
            "tags": []
          },
          "execution_count": 18
        }
      ]
    },
    {
      "cell_type": "markdown",
      "metadata": {
        "id": "sxkFNzaVQgoW"
      },
      "source": [
        "In general, CDFs are a good way to visualize distributions.  They are not as noisy as PMFs, and if you plot several CDFs on the same axes, any differences between them are apparent."
      ]
    },
    {
      "cell_type": "code",
      "metadata": {
        "id": "nw2xiMiaQgoW",
        "outputId": "95d355c5-6a84-4bb5-cae6-37e9318abd3a",
        "colab": {
          "base_uri": "https://localhost:8080/",
          "height": 279
        }
      },
      "source": [
        "first_cdf = thinkstats2.Cdf(firsts.totalwgt_lb, label='first')\n",
        "other_cdf = thinkstats2.Cdf(others.totalwgt_lb, label='other')\n",
        "\n",
        "thinkplot.PrePlot(2)\n",
        "thinkplot.Cdfs([first_cdf, other_cdf])\n",
        "thinkplot.Config(xlabel='Weight (pounds)', ylabel='CDF')"
      ],
      "execution_count": 19,
      "outputs": [
        {
          "output_type": "display_data",
          "data": {
            "image/png": "[encoded data removed]",
            "text/plain": [
              "<Figure size 432x288 with 1 Axes>"
            ]
          },
          "metadata": {
            "tags": [],
            "needs_background": "light"
          }
        }
      ]
    },
    {
      "cell_type": "markdown",
      "metadata": {
        "id": "jZ9-fnuIQgoW"
      },
      "source": [
        "In this example, we can see that first babies are slightly, but consistently, lighter than others.\n",
        "\n",
        "We can use the CDF of birth weight to compute percentile-based statistics."
      ]
    },
    {
      "cell_type": "code",
      "metadata": {
        "id": "b7FpT_2AQgoW"
      },
      "source": [
        "weights = live.totalwgt_lb\n",
        "live_cdf = thinkstats2.Cdf(weights, label='live')"
      ],
      "execution_count": 20,
      "outputs": []
    },
    {
      "cell_type": "markdown",
      "metadata": {
        "id": "XxHso88bQgoW"
      },
      "source": [
        "Again, the median is the 50th percentile."
      ]
    },
    {
      "cell_type": "code",
      "metadata": {
        "id": "zxsFr3WrQgoW",
        "outputId": "84de416d-ac83-4334-85a1-dfd2fdb15b10",
        "colab": {
          "base_uri": "https://localhost:8080/"
        }
      },
      "source": [
        "median = live_cdf.Percentile(50)\n",
        "median"
      ],
      "execution_count": 21,
      "outputs": [
        {
          "output_type": "execute_result",
          "data": {
            "text/plain": [
              "7.375"
            ]
          },
          "metadata": {
            "tags": []
          },
          "execution_count": 21
        }
      ]
    },
    {
      "cell_type": "markdown",
      "metadata": {
        "id": "0FCZYYU9QgoW"
      },
      "source": [
        "The interquartile range is the interval from the 25th to 75th percentile."
      ]
    },
    {
      "cell_type": "code",
      "metadata": {
        "id": "xLTtiPBzQgoW",
        "outputId": "d4fd010d-72b3-4486-878b-fe86027633fd",
        "colab": {
          "base_uri": "https://localhost:8080/"
        }
      },
      "source": [
        "iqr = (live_cdf.Percentile(25), live_cdf.Percentile(75))\n",
        "iqr"
      ],
      "execution_count": 22,
      "outputs": [
        {
          "output_type": "execute_result",
          "data": {
            "text/plain": [
              "(6.5, 8.125)"
            ]
          },
          "metadata": {
            "tags": []
          },
          "execution_count": 22
        }
      ]
    },
    {
      "cell_type": "markdown",
      "metadata": {
        "id": "oC7aKg3AQgoW"
      },
      "source": [
        "We can use the CDF to look up the percentile rank of a particular value.  For example, my second daughter was 10.2 pounds at birth, which is near the 99th percentile."
      ]
    },
    {
      "cell_type": "code",
      "metadata": {
        "id": "X39zsFadQgoW",
        "outputId": "796d35cc-e390-4b6b-d4ca-02be1b820221",
        "colab": {
          "base_uri": "https://localhost:8080/"
        }
      },
      "source": [
        "live_cdf.PercentileRank(10.2)"
      ],
      "execution_count": 23,
      "outputs": [
        {
          "output_type": "execute_result",
          "data": {
            "text/plain": [
              "98.82717415357381"
            ]
          },
          "metadata": {
            "tags": []
          },
          "execution_count": 23
        }
      ]
    },
    {
      "cell_type": "markdown",
      "metadata": {
        "id": "n28I9cXiQgoW"
      },
      "source": [
        "If we draw a random sample from the observed weights and map each weigh to its percentile rank."
      ]
    },
    {
      "cell_type": "code",
      "metadata": {
        "id": "KZixrryyQgoW"
      },
      "source": [
        "sample = np.random.choice(weights, 100, replace=True)\n",
        "ranks = [live_cdf.PercentileRank(x) for x in sample]"
      ],
      "execution_count": 24,
      "outputs": []
    },
    {
      "cell_type": "markdown",
      "metadata": {
        "id": "Erbapm3OQgoW"
      },
      "source": [
        "The resulting list of ranks should be approximately uniform from 0-1."
      ]
    },
    {
      "cell_type": "code",
      "metadata": {
        "id": "sEjYNyHHQgoW",
        "outputId": "b0767df2-f884-4063-a40c-d6e4b11a4f63",
        "colab": {
          "base_uri": "https://localhost:8080/",
          "height": 279
        }
      },
      "source": [
        "rank_cdf = thinkstats2.Cdf(ranks)\n",
        "thinkplot.Cdf(rank_cdf)\n",
        "thinkplot.Config(xlabel='Percentile rank', ylabel='CDF')"
      ],
      "execution_count": 27,
      "outputs": [
        {
          "output_type": "display_data",
          "data": {
            "image/png": "[encoded data removed]",
            "text/plain": [
              "<Figure size 432x288 with 1 Axes>"
            ]
          },
          "metadata": {
            "tags": [],
            "needs_background": "light"
          }
        }
      ]
    },
    {
      "cell_type": "markdown",
      "metadata": {
        "id": "y6i3kRtdQgoW"
      },
      "source": [
        "That observation is the basis of `Cdf.Sample`, which generates a random sample from a Cdf.  Here's an example."
      ]
    },
    {
      "cell_type": "code",
      "metadata": {
        "id": "WZnQsISNQgoW",
        "outputId": "732ea7ee-be3e-49b1-8015-32b721a77116",
        "colab": {
          "base_uri": "https://localhost:8080/",
          "height": 279
        }
      },
      "source": [
        "resample = live_cdf.Sample(1000)\n",
        "thinkplot.Cdf(live_cdf)\n",
        "thinkplot.Cdf(thinkstats2.Cdf(resample, label='resample'))\n",
        "thinkplot.Config(xlabel='Birth weight (pounds)', ylabel='CDF')"
      ],
      "execution_count": 28,
      "outputs": [
        {
          "output_type": "display_data",
          "data": {
            "image/png": "[encoded data removed]",
            "text/plain": [
              "<Figure size 432x288 with 1 Axes>"
            ]
          },
          "metadata": {
            "tags": [],
            "needs_background": "light"
          }
        }
      ]
    },
    {
      "cell_type": "markdown",
      "metadata": {
        "id": "vYAvWWjYQgoW"
      },
      "source": [
        "This confirms that the random sample has the same distribution as the original data."
      ]
    },
    {
      "cell_type": "markdown",
      "metadata": {
        "collapsed": true,
        "id": "G8gFo9iFQgoW"
      },
      "source": [
        "## Exercises"
      ]
    },
    {
      "cell_type": "markdown",
      "metadata": {
        "collapsed": true,
        "id": "qAIssFKFQgoW"
      },
      "source": [
        "**Exercise:** How much did you weigh at birth? If you don’t know, call your mother or someone else who knows. Using the NSFG data (all live births), compute the distribution of birth weights and use it to find your percentile rank. If you were a first baby, find your percentile rank in the distribution for first babies. Otherwise use the distribution for others. If you are in the 90th percentile or higher, call your mother back and apologize."
      ]
    },
    {
      "cell_type": "code",
      "metadata": {
        "id": "j-7tTsiuQgoW"
      },
      "source": [
        "# Solution goes here"
      ],
      "execution_count": null,
      "outputs": []
    },
    {
      "cell_type": "code",
      "metadata": {
        "id": "YcUJ1JXUQgoW"
      },
      "source": [
        "# Solution goes here"
      ],
      "execution_count": null,
      "outputs": []
    },
    {
      "cell_type": "markdown",
      "metadata": {
        "collapsed": true,
        "id": "3oz3G6cdQgoW"
      },
      "source": [
        "**Exercise:** The numbers generated by `numpy.random.random` are supposed to be uniform between 0 and 1; that is, every value in the range should have the same probability.\n",
        "\n",
        "Generate 1000 numbers from `numpy.random.random` and plot their PMF.  What goes wrong?\n",
        "\n",
        "Now plot the CDF. Is the distribution uniform?"
      ]
    },
    {
      "cell_type": "code",
      "metadata": {
        "id": "UMeXDdpjQgoW"
      },
      "source": [
        "# Solution goes here"
      ],
      "execution_count": null,
      "outputs": []
    },
    {
      "cell_type": "code",
      "metadata": {
        "id": "UoXisV9JQgoW"
      },
      "source": [
        "# Solution goes here"
      ],
      "execution_count": null,
      "outputs": []
    },
    {
      "cell_type": "code",
      "metadata": {
        "id": "Ykp_i3MWQgoW"
      },
      "source": [
        "# Solution goes here"
      ],
      "execution_count": null,
      "outputs": []
    },
    {
      "cell_type": "code",
      "metadata": {
        "id": "qBD_XbPmQgoW"
      },
      "source": [
        ""
      ],
      "execution_count": null,
      "outputs": []
    }
  ]
}