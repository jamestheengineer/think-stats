Examples and Exercises from Think Stats, 2nd Edition
http://thinkstats2.com

Copyright 2016 Allen B. Downey

MIT License: https://opensource.org/licenses/MIT
